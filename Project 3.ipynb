{
 "cells": [
  {
   "cell_type": "code",
   "execution_count": 30,
   "metadata": {},
   "outputs": [],
   "source": [
    "# Import packages\n",
    "import numpy as np\n",
    "import pandas as pd\n",
    "import matplotlib.pyplot as plt"
   ]
  },
  {
   "cell_type": "code",
   "execution_count": 28,
   "metadata": {},
   "outputs": [],
   "source": [
    "# Import dataset\n",
    "baseball = pd.read_excel(\"AL_West.xlsx\")"
   ]
  },
  {
   "cell_type": "code",
   "execution_count": 29,
   "metadata": {},
   "outputs": [
    {
     "data": {
      "text/html": [
       "<div>\n",
       "<style scoped>\n",
       "    .dataframe tbody tr th:only-of-type {\n",
       "        vertical-align: middle;\n",
       "    }\n",
       "\n",
       "    .dataframe tbody tr th {\n",
       "        vertical-align: top;\n",
       "    }\n",
       "\n",
       "    .dataframe thead th {\n",
       "        text-align: right;\n",
       "    }\n",
       "</style>\n",
       "<table border=\"1\" class=\"dataframe\">\n",
       "  <thead>\n",
       "    <tr style=\"text-align: right;\">\n",
       "      <th></th>\n",
       "      <th>Name</th>\n",
       "      <th>Team</th>\n",
       "      <th>AVG_2019</th>\n",
       "      <th>AVG_2020</th>\n",
       "      <th>OBP_2019</th>\n",
       "      <th>OBP_2020</th>\n",
       "    </tr>\n",
       "  </thead>\n",
       "  <tbody>\n",
       "    <tr>\n",
       "      <th>0</th>\n",
       "      <td>Martin Maldonado</td>\n",
       "      <td>Astros</td>\n",
       "      <td>0.213</td>\n",
       "      <td>0.215</td>\n",
       "      <td>0.293</td>\n",
       "      <td>0.350</td>\n",
       "    </tr>\n",
       "    <tr>\n",
       "      <th>1</th>\n",
       "      <td>Yuli Gurriel</td>\n",
       "      <td>Astros</td>\n",
       "      <td>0.298</td>\n",
       "      <td>0.232</td>\n",
       "      <td>0.343</td>\n",
       "      <td>0.274</td>\n",
       "    </tr>\n",
       "    <tr>\n",
       "      <th>2</th>\n",
       "      <td>Jose Altuve</td>\n",
       "      <td>Astros</td>\n",
       "      <td>0.298</td>\n",
       "      <td>0.219</td>\n",
       "      <td>0.353</td>\n",
       "      <td>0.286</td>\n",
       "    </tr>\n",
       "    <tr>\n",
       "      <th>3</th>\n",
       "      <td>Carlos Correa</td>\n",
       "      <td>Astros</td>\n",
       "      <td>0.279</td>\n",
       "      <td>0.264</td>\n",
       "      <td>0.358</td>\n",
       "      <td>0.326</td>\n",
       "    </tr>\n",
       "    <tr>\n",
       "      <th>4</th>\n",
       "      <td>Alex Bregman</td>\n",
       "      <td>Astros</td>\n",
       "      <td>0.296</td>\n",
       "      <td>0.242</td>\n",
       "      <td>0.423</td>\n",
       "      <td>0.350</td>\n",
       "    </tr>\n",
       "    <tr>\n",
       "      <th>...</th>\n",
       "      <td>...</td>\n",
       "      <td>...</td>\n",
       "      <td>...</td>\n",
       "      <td>...</td>\n",
       "      <td>...</td>\n",
       "      <td>...</td>\n",
       "    </tr>\n",
       "    <tr>\n",
       "      <th>94</th>\n",
       "      <td>Chad Pinder</td>\n",
       "      <td>Athletics</td>\n",
       "      <td>0.240</td>\n",
       "      <td>0.232</td>\n",
       "      <td>0.290</td>\n",
       "      <td>0.295</td>\n",
       "    </tr>\n",
       "    <tr>\n",
       "      <th>95</th>\n",
       "      <td>Austin Allen</td>\n",
       "      <td>Athletics</td>\n",
       "      <td>0.215</td>\n",
       "      <td>0.194</td>\n",
       "      <td>0.282</td>\n",
       "      <td>0.219</td>\n",
       "    </tr>\n",
       "    <tr>\n",
       "      <th>96</th>\n",
       "      <td>Sean Murphy</td>\n",
       "      <td>Athletics</td>\n",
       "      <td>0.245</td>\n",
       "      <td>0.233</td>\n",
       "      <td>0.333</td>\n",
       "      <td>0.364</td>\n",
       "    </tr>\n",
       "    <tr>\n",
       "      <th>97</th>\n",
       "      <td>Beau Taylor</td>\n",
       "      <td>Athletics</td>\n",
       "      <td>0.174</td>\n",
       "      <td>0.048</td>\n",
       "      <td>0.300</td>\n",
       "      <td>0.130</td>\n",
       "    </tr>\n",
       "    <tr>\n",
       "      <th>98</th>\n",
       "      <td>Jake Lamb</td>\n",
       "      <td>Athletics</td>\n",
       "      <td>0.193</td>\n",
       "      <td>0.193</td>\n",
       "      <td>0.323</td>\n",
       "      <td>0.283</td>\n",
       "    </tr>\n",
       "  </tbody>\n",
       "</table>\n",
       "<p>99 rows × 6 columns</p>\n",
       "</div>"
      ],
      "text/plain": [
       "                Name       Team  AVG_2019  AVG_2020  OBP_2019  OBP_2020\n",
       "0   Martin Maldonado     Astros     0.213     0.215     0.293     0.350\n",
       "1       Yuli Gurriel     Astros     0.298     0.232     0.343     0.274\n",
       "2        Jose Altuve     Astros     0.298     0.219     0.353     0.286\n",
       "3      Carlos Correa     Astros     0.279     0.264     0.358     0.326\n",
       "4       Alex Bregman     Astros     0.296     0.242     0.423     0.350\n",
       "..               ...        ...       ...       ...       ...       ...\n",
       "94       Chad Pinder  Athletics     0.240     0.232     0.290     0.295\n",
       "95      Austin Allen  Athletics     0.215     0.194     0.282     0.219\n",
       "96       Sean Murphy  Athletics     0.245     0.233     0.333     0.364\n",
       "97       Beau Taylor  Athletics     0.174     0.048     0.300     0.130\n",
       "98         Jake Lamb  Athletics     0.193     0.193     0.323     0.283\n",
       "\n",
       "[99 rows x 6 columns]"
      ]
     },
     "execution_count": 29,
     "metadata": {},
     "output_type": "execute_result"
    }
   ],
   "source": [
    "baseball.drop('Division', inplace =  True, axis = 1) # Removes `Division` since every player on the list is in the AL West\n",
    "baseball"
   ]
  },
  {
   "cell_type": "markdown",
   "metadata": {},
   "source": [
    "This dataset contains 99 observations of individual player statistics during the 2019 and 2020 major league baseball (MLB) seasons. Each observation includes the player's name, team, batting averages in 2019 and 2020, and on-base percentages in 2019 and 2020."
   ]
  },
  {
   "cell_type": "code",
   "execution_count": 32,
   "metadata": {},
   "outputs": [
    {
     "data": {
      "text/plain": [
       "<AxesSubplot:xlabel='Team', ylabel='AVG_2020'>"
      ]
     },
     "execution_count": 32,
     "metadata": {},
     "output_type": "execute_result"
    },
    {
     "data": {
      "image/png": "[encoded data removed]",
      "text/plain": [
       "<Figure size 432x288 with 1 Axes>"
      ]
     },
     "metadata": {
      "needs_background": "light"
     },
     "output_type": "display_data"
    }
   ],
   "source": [
    "# Categoric EDA\n",
    "# Use pandas to create a scatterplot\n",
    "baseball.plot.scatter(x = 'Team', y = 'AVG_2020')"
   ]
  },
  {
   "cell_type": "markdown",
   "metadata": {},
   "source": [
    "This scatterplot shows each player's batting average in 2020, and is organized by team to show the distribution of individual batting averages on each team in the American League West division. The Angels and Astros appear to have the most productive batting averages, meaning that they are higher than other teams on average."
   ]
  },
  {
   "cell_type": "code",
   "execution_count": 46,
   "metadata": {},
   "outputs": [
    {
     "name": "stdout",
     "output_type": "stream",
     "text": [
      "The mean batting average in the AL West in 2019 was 0.236\n",
      "The standard deviation for batting average in the AL West in 2019 was 0.045\n",
      "\n",
      "The mean batting average in the AL West in 2020 was 0.215\n",
      "The standard deviation for batting average in the AL West in 2020 was 0.057\n",
      "\n",
      "The mean on-base percentage in the AL West in 2019 was 0.315\n",
      "The standard deviation for on-base percentage in the AL West in 2019 was 0.053\n",
      "\n",
      "The mean one-base percentage in the AL West in 2020 was 0.296\n",
      "The standard deviation for on-base percentage in the AL West in 2020 was 0.066\n"
     ]
    }
   ],
   "source": [
    "# Numeric EDA\n",
    "from IPython.core.interactiveshell import InteractiveShell\n",
    "InteractiveShell.ast_node_interactivity = \"all\"\n",
    "print(\"The mean batting average in the AL West in 2019 was\", round(np.mean(baseball.AVG_2019), 3))\n",
    "print(\"The standard deviation for batting average in the AL West in 2019 was\", round(np.std(baseball.AVG_2019), 3))\n",
    "print()\n",
    "print(\"The mean batting average in the AL West in 2020 was\", round(np.mean(baseball.AVG_2020), 3))\n",
    "print(\"The standard deviation for batting average in the AL West in 2020 was\", round(np.std(baseball.AVG_2020), 3))\n",
    "print()\n",
    "print(\"The mean on-base percentage in the AL West in 2019 was\", round(np.mean(baseball.OBP_2019), 3))\n",
    "print(\"The standard deviation for on-base percentage in the AL West in 2019 was\", round(np.std(baseball.OBP_2019), 3))\n",
    "print()\n",
    "print(\"The mean one-base percentage in the AL West in 2020 was\", round(np.mean(baseball.OBP_2020), 3))\n",
    "print(\"The standard deviation for on-base percentage in the AL West in 2020 was\", round(np.std(baseball.OBP_2020), 3))"
   ]
  },
  {
   "cell_type": "code",
   "execution_count": 64,
   "metadata": {},
   "outputs": [
    {
     "data": {
      "text/html": [
       "<div>\n",
       "<style scoped>\n",
       "    .dataframe tbody tr th:only-of-type {\n",
       "        vertical-align: middle;\n",
       "    }\n",
       "\n",
       "    .dataframe tbody tr th {\n",
       "        vertical-align: top;\n",
       "    }\n",
       "\n",
       "    .dataframe thead tr th {\n",
       "        text-align: left;\n",
       "    }\n",
       "\n",
       "    .dataframe thead tr:last-of-type th {\n",
       "        text-align: right;\n",
       "    }\n",
       "</style>\n",
       "<table border=\"1\" class=\"dataframe\">\n",
       "  <thead>\n",
       "    <tr>\n",
       "      <th></th>\n",
       "      <th>AVG_2019</th>\n",
       "      <th>AVG_2020</th>\n",
       "      <th>OBP_2019</th>\n",
       "      <th>OBP_2020</th>\n",
       "    </tr>\n",
       "    <tr>\n",
       "      <th></th>\n",
       "      <th>mean</th>\n",
       "      <th>mean</th>\n",
       "      <th>mean</th>\n",
       "      <th>mean</th>\n",
       "    </tr>\n",
       "    <tr>\n",
       "      <th>Team</th>\n",
       "      <th></th>\n",
       "      <th></th>\n",
       "      <th></th>\n",
       "      <th></th>\n",
       "    </tr>\n",
       "  </thead>\n",
       "  <tbody>\n",
       "    <tr>\n",
       "      <th>Angels</th>\n",
       "      <td>0.232130</td>\n",
       "      <td>0.232652</td>\n",
       "      <td>0.309478</td>\n",
       "      <td>0.321217</td>\n",
       "    </tr>\n",
       "    <tr>\n",
       "      <th>Astros</th>\n",
       "      <td>0.237909</td>\n",
       "      <td>0.225091</td>\n",
       "      <td>0.324818</td>\n",
       "      <td>0.303045</td>\n",
       "    </tr>\n",
       "    <tr>\n",
       "      <th>Athletics</th>\n",
       "      <td>0.239667</td>\n",
       "      <td>0.201133</td>\n",
       "      <td>0.323000</td>\n",
       "      <td>0.289000</td>\n",
       "    </tr>\n",
       "    <tr>\n",
       "      <th>Mariners</th>\n",
       "      <td>0.230619</td>\n",
       "      <td>0.202571</td>\n",
       "      <td>0.302952</td>\n",
       "      <td>0.284476</td>\n",
       "    </tr>\n",
       "    <tr>\n",
       "      <th>Rangers</th>\n",
       "      <td>0.242833</td>\n",
       "      <td>0.207944</td>\n",
       "      <td>0.319833</td>\n",
       "      <td>0.276611</td>\n",
       "    </tr>\n",
       "  </tbody>\n",
       "</table>\n",
       "</div>"
      ],
      "text/plain": [
       "           AVG_2019  AVG_2020  OBP_2019  OBP_2020\n",
       "               mean      mean      mean      mean\n",
       "Team                                             \n",
       "Angels     0.232130  0.232652  0.309478  0.321217\n",
       "Astros     0.237909  0.225091  0.324818  0.303045\n",
       "Athletics  0.239667  0.201133  0.323000  0.289000\n",
       "Mariners   0.230619  0.202571  0.302952  0.284476\n",
       "Rangers    0.242833  0.207944  0.319833  0.276611"
      ]
     },
     "execution_count": 64,
     "metadata": {},
     "output_type": "execute_result"
    }
   ],
   "source": [
    "# Visualization for numeric EDA\n",
    "teamAVG = baseball.groupby(['Team']) \\\n",
    ".agg(['mean'])\n",
    "teamAVG"
   ]
  },
  {
   "cell_type": "code",
   "execution_count": 74,
   "metadata": {},
   "outputs": [
    {
     "data": {
      "text/plain": [
       "<BarContainer object of 5 artists>"
      ]
     },
     "execution_count": 74,
     "metadata": {},
     "output_type": "execute_result"
    },
    {
     "data": {
      "text/plain": [
       "Text(0.5, 0, 'Teams')"
      ]
     },
     "execution_count": 74,
     "metadata": {},
     "output_type": "execute_result"
    },
    {
     "data": {
      "text/plain": [
       "Text(0, 0.5, 'Mean Batting Average')"
      ]
     },
     "execution_count": 74,
     "metadata": {},
     "output_type": "execute_result"
    },
    {
     "data": {
      "text/plain": [
       "Text(0.5, 1.0, 'Mean Team Batting Averages in 2020')"
      ]
     },
     "execution_count": 74,
     "metadata": {},
     "output_type": "execute_result"
    },
    {
     "data": {
      "image/png": "[encoded data removed]",
      "text/plain": [
       "<Figure size 432x288 with 1 Axes>"
      ]
     },
     "metadata": {
      "needs_background": "light"
     },
     "output_type": "display_data"
    }
   ],
   "source": [
    "data = {'Angels': .233, 'Astros': .226, 'Athletics': .201,\n",
    "        'Mariners': .203, 'Rangers': .208}\n",
    "teams = list(data.keys())\n",
    "values = list(data.values())\n",
    "\n",
    "plt.bar(teams, values, color = 'black',\n",
    "        width = 0.5)\n",
    " \n",
    "plt.xlabel(\"Teams\")\n",
    "plt.ylabel(\"Mean Batting Average\")\n",
    "plt.title(\"Mean Team Batting Averages in 2020\")\n",
    "plt.show()"
   ]
  },
  {
   "cell_type": "markdown",
   "metadata": {},
   "source": [
    "The bar plot shows that, in 2020, the Angels had the highest team batting average in the AL West, while the Athletics had the worst, which is interesting to note because the Athletics actually won the AL West that year, while the Angels didn't even make the playoffs."
   ]
  }
 ],
 "metadata": {
  "kernelspec": {
   "display_name": "Python 3",
   "language": "python",
   "name": "python3"
  },
  "language_info": {
   "codemirror_mode": {
    "name": "ipython",
    "version": 3
   },
   "file_extension": ".py",
   "mimetype": "text/x-python",
   "name": "python",
   "nbconvert_exporter": "python",
   "pygments_lexer": "ipython3",
   "version": "3.8.5"
  }
 },
 "nbformat": 4,
 "nbformat_minor": 4
}
